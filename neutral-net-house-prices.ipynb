{
 "cells": [
  {
   "cell_type": "code",
   "execution_count": 1,
   "id": "a5565926",
   "metadata": {
    "_cell_guid": "b1076dfc-b9ad-4769-8c92-a6c4dae69d19",
    "_uuid": "8f2839f25d086af736a60e9eeb907d3b93b6e0e5",
    "execution": {
     "iopub.execute_input": "2021-10-11T19:22:04.436032Z",
     "iopub.status.busy": "2021-10-11T19:22:04.435012Z",
     "iopub.status.idle": "2021-10-11T19:22:10.569748Z",
     "shell.execute_reply": "2021-10-11T19:22:10.568694Z",
     "shell.execute_reply.started": "2021-10-11T19:11:45.308601Z"
    },
    "papermill": {
     "duration": 6.16063,
     "end_time": "2021-10-11T19:22:10.570003",
     "exception": false,
     "start_time": "2021-10-11T19:22:04.409373",
     "status": "completed"
    },
    "tags": []
   },
   "outputs": [
    {
     "name": "stderr",
     "output_type": "stream",
     "text": [
      "2021-10-11 19:22:05.926004: W tensorflow/stream_executor/platform/default/dso_loader.cc:60] Could not load dynamic library 'libcudart.so.11.0'; dlerror: libcudart.so.11.0: cannot open shared object file: No such file or directory; LD_LIBRARY_PATH: /opt/conda/lib\n",
      "2021-10-11 19:22:05.926118: I tensorflow/stream_executor/cuda/cudart_stub.cc:29] Ignore above cudart dlerror if you do not have a GPU set up on your machine.\n"
     ]
    },
    {
     "name": "stdout",
     "output_type": "stream",
     "text": [
      "/kaggle/input/house-prices-advanced-regression-techniques/sample_submission.csv\n",
      "/kaggle/input/house-prices-advanced-regression-techniques/data_description.txt\n",
      "/kaggle/input/house-prices-advanced-regression-techniques/train.csv\n",
      "/kaggle/input/house-prices-advanced-regression-techniques/test.csv\n"
     ]
    }
   ],
   "source": [
    "# This Python 3 environment comes with many helpful analytics libraries installed\n",
    "# It is defined by the kaggle/python Docker image: https://github.com/kaggle/docker-python\n",
    "# For example, here's several helpful packages to load\n",
    "\n",
    "import numpy as np # linear algebra\n",
    "import pandas as pd # data processing, CSV file I/O (e.g. pd.read_csv)\n",
    "\n",
    "# My imports\n",
    "import matplotlib.pyplot as plt\n",
    "from sklearn.preprocessing import MinMaxScaler\n",
    "import tensorflow as tf\n",
    "from keras_tuner.tuners import RandomSearch\n",
    "from tensorflow.keras.optimizers import Adam\n",
    "from tensorflow import keras\n",
    "from tensorflow.keras.models import Sequential\n",
    "from tensorflow.keras.layers import Dense\n",
    "\n",
    "# Input data files are available in the read-only \"../input/\" directory\n",
    "# For example, running this (by clicking run or pressing Shift+Enter) will list all files under the input directory\n",
    "\n",
    "import os\n",
    "for dirname, _, filenames in os.walk('/kaggle/input'):\n",
    "    for filename in filenames:\n",
    "        print(os.path.join(dirname, filename))\n",
    "\n",
    "# You can write up to 20GB to the current directory (/kaggle/working/) that gets preserved as output when you create a version using \"Save & Run All\" \n",
    "# You can also write temporary files to /kaggle/temp/, but they won't be saved outside of the current session"
   ]
  },
  {
   "cell_type": "code",
   "execution_count": 2,
   "id": "8d6c4a0c",
   "metadata": {
    "execution": {
     "iopub.execute_input": "2021-10-11T19:22:10.613247Z",
     "iopub.status.busy": "2021-10-11T19:22:10.612528Z",
     "iopub.status.idle": "2021-10-11T19:22:10.823002Z",
     "shell.execute_reply": "2021-10-11T19:22:10.822084Z",
     "shell.execute_reply.started": "2021-10-11T19:11:45.323864Z"
    },
    "papermill": {
     "duration": 0.242088,
     "end_time": "2021-10-11T19:22:10.823148",
     "exception": false,
     "start_time": "2021-10-11T19:22:10.581060",
     "status": "completed"
    },
    "tags": []
   },
   "outputs": [
    {
     "name": "stdout",
     "output_type": "stream",
     "text": [
      "Empty DataFrame\n",
      "Columns: [Feature, Number of Missing Values, Percentage of Missing Values]\n",
      "Index: []\n",
      "Empty DataFrame\n",
      "Columns: [Feature, Number of Missing Values, Percentage of Missing Values]\n",
      "Index: []\n"
     ]
    }
   ],
   "source": [
    "train_df = pd.read_csv('/kaggle/input/house-prices-advanced-regression-techniques/train.csv')\n",
    "test_df = pd.read_csv('/kaggle/input/house-prices-advanced-regression-techniques/test.csv')\n",
    "\n",
    "train_df = pd.get_dummies(train_df)\n",
    "test_df = pd.get_dummies(test_df)\n",
    "\n",
    "train_df['LotFrontage'] = train_df['LotFrontage'].fillna(np.mean(train_df['LotFrontage']))\n",
    "train_df['GarageYrBlt'] = train_df['GarageYrBlt'].fillna(np.mean(train_df['GarageYrBlt']))\n",
    "train_df['MasVnrArea'] = train_df['MasVnrArea'].fillna(np.mean(train_df['MasVnrArea']))\n",
    "train_df['BsmtFullBath'] = train_df['BsmtFullBath'].fillna(0)\n",
    "train_df['BsmtHalfBath'] = train_df['BsmtHalfBath'].fillna(0)\n",
    "train_df['BsmtFinSF1'] = train_df['BsmtFinSF1'].fillna(0)\n",
    "train_df['BsmtFinSF2'] = train_df['BsmtFinSF2'].fillna(0)\n",
    "train_df['BsmtUnfSF'] = train_df['BsmtUnfSF'].fillna(0)\n",
    "train_df['TotalBsmtSF'] = train_df['TotalBsmtSF'].fillna(0)\n",
    "train_df['GarageCars'] = train_df['GarageArea'].fillna(0)\n",
    "train_df['GarageCars'] = train_df['GarageArea'].fillna(0)\n",
    "\n",
    "test_df['LotFrontage'] = test_df['LotFrontage'].fillna(np.mean(test_df['LotFrontage']))\n",
    "test_df['GarageYrBlt'] = test_df['GarageYrBlt'].fillna(np.mean(test_df['GarageYrBlt']))\n",
    "test_df['MasVnrArea'] = test_df['MasVnrArea'].fillna(np.mean(test_df['MasVnrArea']))\n",
    "test_df['BsmtFullBath'] = test_df['BsmtFullBath'].fillna(0)\n",
    "test_df['BsmtHalfBath'] = test_df['BsmtHalfBath'].fillna(0)\n",
    "test_df['BsmtFinSF1'] = test_df['BsmtFinSF1'].fillna(0)\n",
    "test_df['BsmtFinSF2'] = test_df['BsmtFinSF2'].fillna(0)\n",
    "test_df['BsmtUnfSF'] = test_df['BsmtUnfSF'].fillna(0)\n",
    "test_df['TotalBsmtSF'] = test_df['TotalBsmtSF'].fillna(0)\n",
    "test_df['GarageCars'] = test_df['GarageCars'].fillna(0)\n",
    "test_df['GarageArea'] = test_df['GarageArea'].fillna(0)\n",
    "\n",
    "missing_values = test_df.isnull().sum()\n",
    "missing_values = missing_values[missing_values > 0].sort_values(ascending = False)\n",
    "NAN_col = list(missing_values.to_dict().keys())\n",
    "missing_values_data = pd.DataFrame(missing_values)\n",
    "missing_values_data.reset_index(level=0, inplace=True)\n",
    "missing_values_data.columns = ['Feature','Number of Missing Values']\n",
    "missing_values_data['Percentage of Missing Values'] = (100.0*missing_values_data['Number of Missing Values'])/len(train_df)\n",
    "print(missing_values_data)\n",
    "\n",
    "missing_values = train_df.isnull().sum()\n",
    "missing_values = missing_values[missing_values > 0].sort_values(ascending = False)\n",
    "NAN_col = list(missing_values.to_dict().keys())\n",
    "missing_values_data = pd.DataFrame(missing_values)\n",
    "missing_values_data.reset_index(level=0, inplace=True)\n",
    "missing_values_data.columns = ['Feature','Number of Missing Values']\n",
    "missing_values_data['Percentage of Missing Values'] = (100.0*missing_values_data['Number of Missing Values'])/len(train_df)\n",
    "print(missing_values_data)\n",
    "    \n",
    "all_features = test_df.columns.tolist()\n",
    "all_features.append('SalePrice')\n",
    "train_features = test_df.columns.tolist()\n",
    "target = ['SalePrice']"
   ]
  },
  {
   "cell_type": "code",
   "execution_count": 3,
   "id": "b3b601c1",
   "metadata": {
    "execution": {
     "iopub.execute_input": "2021-10-11T19:22:10.851484Z",
     "iopub.status.busy": "2021-10-11T19:22:10.850653Z",
     "iopub.status.idle": "2021-10-11T19:22:11.156637Z",
     "shell.execute_reply": "2021-10-11T19:22:11.157135Z",
     "shell.execute_reply.started": "2021-10-11T19:11:45.505537Z"
    },
    "papermill": {
     "duration": 0.324225,
     "end_time": "2021-10-11T19:22:11.157317",
     "exception": false,
     "start_time": "2021-10-11T19:22:10.833092",
     "status": "completed"
    },
    "tags": []
   },
   "outputs": [],
   "source": [
    "# do some scaling\n",
    "from sklearn.model_selection import train_test_split\n",
    "\n",
    "scalar = MinMaxScaler()\n",
    "train_df[all_features] = scalar.fit_transform(train_df[all_features])\n",
    "multiplied_by = scalar.scale_[-1]\n",
    "added = scalar.min_[-1]\n",
    "\n",
    "test_df[target] = 100\n",
    "test_df[all_features] = scalar.transform(test_df[all_features])\n",
    "test_df.drop(columns=target, axis=1, inplace=True)\n",
    "\n",
    "\n",
    "scaled_train_X = train_df[train_features]\n",
    "scaled_train_y = train_df[target]\n",
    "scaled_test_X = test_df[train_features]\n",
    "\n",
    "X_train, X_val, y_train, y_val = train_test_split(scaled_train_X, scaled_train_y, test_size=0.001, random_state=0)"
   ]
  },
  {
   "cell_type": "code",
   "execution_count": 4,
   "id": "919c64a3",
   "metadata": {
    "execution": {
     "iopub.execute_input": "2021-10-11T19:22:11.188919Z",
     "iopub.status.busy": "2021-10-11T19:22:11.188183Z",
     "iopub.status.idle": "2021-10-11T19:29:49.985015Z",
     "shell.execute_reply": "2021-10-11T19:29:49.984421Z",
     "shell.execute_reply.started": "2021-10-11T19:11:45.752299Z"
    },
    "papermill": {
     "duration": 458.81756,
     "end_time": "2021-10-11T19:29:49.985163",
     "exception": false,
     "start_time": "2021-10-11T19:22:11.167603",
     "status": "completed"
    },
    "tags": []
   },
   "outputs": [
    {
     "name": "stdout",
     "output_type": "stream",
     "text": [
      "Trial 10 Complete [00h 00m 41s]\n",
      "val_mse: 0.0002300363800410802\n",
      "\n",
      "Best val_mse So Far: 7.802506055062015e-05\n",
      "Total elapsed time: 00h 07m 38s\n"
     ]
    }
   ],
   "source": [
    "def build_model(hp):\n",
    "    model = Sequential()\n",
    "    for i in range(hp.Int('layers', 2, 10)):\n",
    "        model.add(Dense(units=hp.Int('units_' + str(i),\n",
    "                                            min_value=32,\n",
    "                                            max_value=512,\n",
    "                                            step=32),\n",
    "                               activation='relu'))\n",
    "    model.add(Dense(1))\n",
    "    model.compile(\n",
    "        optimizer=Adam(\n",
    "            hp.Choice('learning_rate', [1e-2, 1e-3, 1e-4])),\n",
    "        loss='mse',\n",
    "        metrics=['mse'])\n",
    "    return model\n",
    "\n",
    "tuner = RandomSearch(\n",
    "    build_model,\n",
    "    objective='val_mse',\n",
    "    max_trials=10,\n",
    "    executions_per_trial=3,\n",
    "    directory='model_dir',\n",
    "    project_name='House_Price_Prediction')\n",
    " \n",
    "tuner.search(X_train, y_train, batch_size=128, epochs=100, validation_data=(X_val, y_val), verbose=1)\n",
    "best_hps=tuner.get_best_hyperparameters(num_trials=1)[0]"
   ]
  },
  {
   "cell_type": "code",
   "execution_count": 5,
   "id": "5108c689",
   "metadata": {
    "execution": {
     "iopub.execute_input": "2021-10-11T19:29:50.185389Z",
     "iopub.status.busy": "2021-10-11T19:29:50.011304Z",
     "iopub.status.idle": "2021-10-11T19:29:50.237392Z",
     "shell.execute_reply": "2021-10-11T19:29:50.236705Z",
     "shell.execute_reply.started": "2021-10-11T19:11:46.010480Z"
    },
    "papermill": {
     "duration": 0.241981,
     "end_time": "2021-10-11T19:29:50.237528",
     "exception": false,
     "start_time": "2021-10-11T19:29:49.995547",
     "status": "completed"
    },
    "tags": []
   },
   "outputs": [],
   "source": [
    "model = tuner.hypermodel.build(best_hps)"
   ]
  },
  {
   "cell_type": "code",
   "execution_count": 6,
   "id": "518c5b58",
   "metadata": {
    "execution": {
     "iopub.execute_input": "2021-10-11T19:29:50.264794Z",
     "iopub.status.busy": "2021-10-11T19:29:50.264075Z",
     "iopub.status.idle": "2021-10-11T19:30:11.912417Z",
     "shell.execute_reply": "2021-10-11T19:30:11.912936Z",
     "shell.execute_reply.started": "2021-10-11T19:11:46.241726Z"
    },
    "papermill": {
     "duration": 21.665411,
     "end_time": "2021-10-11T19:30:11.913101",
     "exception": false,
     "start_time": "2021-10-11T19:29:50.247690",
     "status": "completed"
    },
    "tags": []
   },
   "outputs": [
    {
     "name": "stdout",
     "output_type": "stream",
     "text": [
      "Epoch 1/100\n",
      "46/46 [==============================] - 1s 4ms/step - loss: 0.0302 - mse: 0.0302\n",
      "Epoch 2/100\n",
      "46/46 [==============================] - 0s 4ms/step - loss: 0.0052 - mse: 0.0052\n",
      "Epoch 3/100\n",
      "46/46 [==============================] - 0s 4ms/step - loss: 0.0032 - mse: 0.0032\n",
      "Epoch 4/100\n",
      "46/46 [==============================] - 0s 4ms/step - loss: 0.0024 - mse: 0.0024\n",
      "Epoch 5/100\n",
      "46/46 [==============================] - 0s 4ms/step - loss: 0.0019 - mse: 0.0019\n",
      "Epoch 6/100\n",
      "46/46 [==============================] - 0s 4ms/step - loss: 0.0015 - mse: 0.0015\n",
      "Epoch 7/100\n",
      "46/46 [==============================] - 0s 4ms/step - loss: 0.0014 - mse: 0.0014\n",
      "Epoch 8/100\n",
      "46/46 [==============================] - 0s 4ms/step - loss: 0.0011 - mse: 0.0011\n",
      "Epoch 9/100\n",
      "46/46 [==============================] - 0s 4ms/step - loss: 8.2456e-04 - mse: 8.2456e-04\n",
      "Epoch 10/100\n",
      "46/46 [==============================] - 0s 5ms/step - loss: 7.1395e-04 - mse: 7.1395e-04\n",
      "Epoch 11/100\n",
      "46/46 [==============================] - 0s 4ms/step - loss: 5.6280e-04 - mse: 5.6280e-04\n",
      "Epoch 12/100\n",
      "46/46 [==============================] - 0s 5ms/step - loss: 4.4195e-04 - mse: 4.4195e-04\n",
      "Epoch 13/100\n",
      "46/46 [==============================] - 0s 4ms/step - loss: 3.9580e-04 - mse: 3.9580e-04\n",
      "Epoch 14/100\n",
      "46/46 [==============================] - 0s 4ms/step - loss: 3.1886e-04 - mse: 3.1886e-04\n",
      "Epoch 15/100\n",
      "46/46 [==============================] - 0s 4ms/step - loss: 3.2679e-04 - mse: 3.2679e-04\n",
      "Epoch 16/100\n",
      "46/46 [==============================] - 0s 5ms/step - loss: 2.2667e-04 - mse: 2.2667e-04\n",
      "Epoch 17/100\n",
      "46/46 [==============================] - 0s 4ms/step - loss: 2.0832e-04 - mse: 2.0832e-04\n",
      "Epoch 18/100\n",
      "46/46 [==============================] - 0s 4ms/step - loss: 1.5364e-04 - mse: 1.5364e-04\n",
      "Epoch 19/100\n",
      "46/46 [==============================] - 0s 4ms/step - loss: 1.5321e-04 - mse: 1.5321e-04\n",
      "Epoch 20/100\n",
      "46/46 [==============================] - 0s 4ms/step - loss: 1.0580e-04 - mse: 1.0580e-04\n",
      "Epoch 21/100\n",
      "46/46 [==============================] - 0s 4ms/step - loss: 1.3805e-04 - mse: 1.3805e-04\n",
      "Epoch 22/100\n",
      "46/46 [==============================] - 0s 4ms/step - loss: 1.0571e-04 - mse: 1.0571e-04\n",
      "Epoch 23/100\n",
      "46/46 [==============================] - 0s 4ms/step - loss: 1.4547e-04 - mse: 1.4547e-04\n",
      "Epoch 24/100\n",
      "46/46 [==============================] - 0s 4ms/step - loss: 8.1998e-05 - mse: 8.1998e-05\n",
      "Epoch 25/100\n",
      "46/46 [==============================] - 0s 4ms/step - loss: 6.3979e-05 - mse: 6.3979e-05\n",
      "Epoch 26/100\n",
      "46/46 [==============================] - 0s 4ms/step - loss: 5.4602e-05 - mse: 5.4602e-05\n",
      "Epoch 27/100\n",
      "46/46 [==============================] - 0s 4ms/step - loss: 3.7754e-05 - mse: 3.7754e-05\n",
      "Epoch 28/100\n",
      "46/46 [==============================] - 0s 4ms/step - loss: 3.6270e-05 - mse: 3.6270e-05\n",
      "Epoch 29/100\n",
      "46/46 [==============================] - 0s 5ms/step - loss: 3.6958e-05 - mse: 3.6958e-05\n",
      "Epoch 30/100\n",
      "46/46 [==============================] - 0s 4ms/step - loss: 5.0532e-05 - mse: 5.0532e-05\n",
      "Epoch 31/100\n",
      "46/46 [==============================] - 0s 5ms/step - loss: 4.6090e-05 - mse: 4.6090e-05\n",
      "Epoch 32/100\n",
      "46/46 [==============================] - 0s 4ms/step - loss: 3.1934e-05 - mse: 3.1934e-05\n",
      "Epoch 33/100\n",
      "46/46 [==============================] - 0s 4ms/step - loss: 2.3777e-05 - mse: 2.3777e-05\n",
      "Epoch 34/100\n",
      "46/46 [==============================] - 0s 4ms/step - loss: 1.7283e-05 - mse: 1.7283e-05\n",
      "Epoch 35/100\n",
      "46/46 [==============================] - 0s 4ms/step - loss: 1.6030e-05 - mse: 1.6030e-05\n",
      "Epoch 36/100\n",
      "46/46 [==============================] - 0s 4ms/step - loss: 1.5856e-05 - mse: 1.5856e-05\n",
      "Epoch 37/100\n",
      "46/46 [==============================] - 0s 4ms/step - loss: 1.9279e-05 - mse: 1.9279e-05\n",
      "Epoch 38/100\n",
      "46/46 [==============================] - 0s 4ms/step - loss: 4.5048e-05 - mse: 4.5048e-05\n",
      "Epoch 39/100\n",
      "46/46 [==============================] - 0s 4ms/step - loss: 4.9820e-05 - mse: 4.9820e-05\n",
      "Epoch 40/100\n",
      "46/46 [==============================] - 0s 5ms/step - loss: 4.0410e-05 - mse: 4.0410e-05\n",
      "Epoch 41/100\n",
      "46/46 [==============================] - 0s 5ms/step - loss: 2.6941e-05 - mse: 2.6941e-05\n",
      "Epoch 42/100\n",
      "46/46 [==============================] - 0s 4ms/step - loss: 2.4574e-05 - mse: 2.4574e-05\n",
      "Epoch 43/100\n",
      "46/46 [==============================] - 0s 4ms/step - loss: 2.5496e-05 - mse: 2.5496e-05\n",
      "Epoch 44/100\n",
      "46/46 [==============================] - 0s 4ms/step - loss: 1.6621e-05 - mse: 1.6621e-05\n",
      "Epoch 45/100\n",
      "46/46 [==============================] - 0s 4ms/step - loss: 2.1358e-05 - mse: 2.1358e-05\n",
      "Epoch 46/100\n",
      "46/46 [==============================] - 0s 4ms/step - loss: 3.4262e-05 - mse: 3.4262e-05\n",
      "Epoch 47/100\n",
      "46/46 [==============================] - 0s 4ms/step - loss: 2.5253e-05 - mse: 2.5253e-05\n",
      "Epoch 48/100\n",
      "46/46 [==============================] - 0s 4ms/step - loss: 4.0433e-05 - mse: 4.0433e-05\n",
      "Epoch 49/100\n",
      "46/46 [==============================] - 0s 4ms/step - loss: 3.3770e-05 - mse: 3.3770e-05\n",
      "Epoch 50/100\n",
      "46/46 [==============================] - 0s 4ms/step - loss: 5.2466e-05 - mse: 5.2466e-05\n",
      "Epoch 51/100\n",
      "46/46 [==============================] - 0s 4ms/step - loss: 4.6107e-05 - mse: 4.6107e-05\n",
      "Epoch 52/100\n",
      "46/46 [==============================] - 0s 4ms/step - loss: 3.7875e-05 - mse: 3.7875e-05\n",
      "Epoch 53/100\n",
      "46/46 [==============================] - 0s 4ms/step - loss: 3.3769e-05 - mse: 3.3769e-05\n",
      "Epoch 54/100\n",
      "46/46 [==============================] - 0s 4ms/step - loss: 3.3461e-05 - mse: 3.3461e-05\n",
      "Epoch 55/100\n",
      "46/46 [==============================] - 0s 4ms/step - loss: 4.5872e-05 - mse: 4.5872e-05\n",
      "Epoch 56/100\n",
      "46/46 [==============================] - 0s 4ms/step - loss: 6.2033e-05 - mse: 6.2033e-05\n",
      "Epoch 57/100\n",
      "46/46 [==============================] - 0s 4ms/step - loss: 3.2534e-05 - mse: 3.2534e-05\n",
      "Epoch 58/100\n",
      "46/46 [==============================] - 0s 4ms/step - loss: 3.3744e-05 - mse: 3.3744e-05\n",
      "Epoch 59/100\n",
      "46/46 [==============================] - 0s 4ms/step - loss: 3.3179e-05 - mse: 3.3179e-05\n",
      "Epoch 60/100\n",
      "46/46 [==============================] - 0s 4ms/step - loss: 9.5363e-05 - mse: 9.5363e-05\n",
      "Epoch 61/100\n",
      "46/46 [==============================] - 0s 4ms/step - loss: 7.5550e-05 - mse: 7.5550e-05\n",
      "Epoch 62/100\n",
      "46/46 [==============================] - 0s 4ms/step - loss: 7.3210e-05 - mse: 7.3210e-05\n",
      "Epoch 63/100\n",
      "46/46 [==============================] - 0s 4ms/step - loss: 5.5966e-05 - mse: 5.5966e-05\n",
      "Epoch 64/100\n",
      "46/46 [==============================] - 0s 4ms/step - loss: 4.0151e-05 - mse: 4.0151e-05\n",
      "Epoch 65/100\n",
      "46/46 [==============================] - 0s 4ms/step - loss: 2.2703e-05 - mse: 2.2703e-05\n",
      "Epoch 66/100\n",
      "46/46 [==============================] - 0s 4ms/step - loss: 2.1003e-05 - mse: 2.1003e-05\n",
      "Epoch 67/100\n",
      "46/46 [==============================] - 0s 5ms/step - loss: 2.4329e-05 - mse: 2.4329e-05\n",
      "Epoch 68/100\n",
      "46/46 [==============================] - 0s 5ms/step - loss: 3.4330e-05 - mse: 3.4330e-05\n",
      "Epoch 69/100\n",
      "46/46 [==============================] - 0s 5ms/step - loss: 3.1455e-05 - mse: 3.1455e-05\n",
      "Epoch 70/100\n",
      "46/46 [==============================] - 0s 5ms/step - loss: 3.4180e-05 - mse: 3.4180e-05\n",
      "Epoch 71/100\n",
      "46/46 [==============================] - 0s 5ms/step - loss: 3.6100e-05 - mse: 3.6100e-05\n",
      "Epoch 72/100\n",
      "46/46 [==============================] - 0s 5ms/step - loss: 2.7131e-05 - mse: 2.7131e-05\n",
      "Epoch 73/100\n",
      "46/46 [==============================] - 0s 4ms/step - loss: 1.9177e-05 - mse: 1.9177e-05\n",
      "Epoch 74/100\n",
      "46/46 [==============================] - 0s 4ms/step - loss: 2.2147e-05 - mse: 2.2147e-05\n",
      "Epoch 75/100\n",
      "46/46 [==============================] - 0s 4ms/step - loss: 2.4072e-05 - mse: 2.4072e-05\n",
      "Epoch 76/100\n",
      "46/46 [==============================] - 0s 4ms/step - loss: 3.4814e-05 - mse: 3.4814e-05\n",
      "Epoch 77/100\n",
      "46/46 [==============================] - 0s 4ms/step - loss: 3.3322e-05 - mse: 3.3322e-05\n",
      "Epoch 78/100\n",
      "46/46 [==============================] - 0s 5ms/step - loss: 4.5652e-05 - mse: 4.5652e-05\n",
      "Epoch 79/100\n",
      "46/46 [==============================] - 0s 5ms/step - loss: 4.8706e-05 - mse: 4.8706e-05\n",
      "Epoch 80/100\n",
      "46/46 [==============================] - 0s 5ms/step - loss: 3.8340e-05 - mse: 3.8340e-05\n",
      "Epoch 81/100\n",
      "46/46 [==============================] - 0s 4ms/step - loss: 4.4630e-05 - mse: 4.4630e-05\n",
      "Epoch 82/100\n",
      "46/46 [==============================] - 0s 5ms/step - loss: 4.1854e-05 - mse: 4.1854e-05\n",
      "Epoch 83/100\n",
      "46/46 [==============================] - 0s 4ms/step - loss: 6.1664e-05 - mse: 6.1664e-05\n",
      "Epoch 84/100\n",
      "46/46 [==============================] - 0s 4ms/step - loss: 4.7189e-05 - mse: 4.7189e-05\n",
      "Epoch 85/100\n",
      "46/46 [==============================] - 0s 4ms/step - loss: 5.9261e-05 - mse: 5.9261e-05\n",
      "Epoch 86/100\n",
      "46/46 [==============================] - 0s 4ms/step - loss: 5.9028e-05 - mse: 5.9028e-05\n",
      "Epoch 87/100\n",
      "46/46 [==============================] - 0s 4ms/step - loss: 4.7730e-05 - mse: 4.7730e-05\n",
      "Epoch 88/100\n",
      "46/46 [==============================] - 0s 4ms/step - loss: 3.5762e-05 - mse: 3.5762e-05\n",
      "Epoch 89/100\n",
      "46/46 [==============================] - 0s 4ms/step - loss: 3.7302e-05 - mse: 3.7302e-05\n",
      "Epoch 90/100\n",
      "46/46 [==============================] - 0s 4ms/step - loss: 4.7662e-05 - mse: 4.7662e-05\n",
      "Epoch 91/100\n",
      "46/46 [==============================] - 0s 5ms/step - loss: 7.4440e-05 - mse: 7.4440e-05\n",
      "Epoch 92/100\n",
      "46/46 [==============================] - 0s 4ms/step - loss: 4.9630e-05 - mse: 4.9630e-05\n",
      "Epoch 93/100\n",
      "46/46 [==============================] - 0s 5ms/step - loss: 2.3625e-05 - mse: 2.3625e-05\n",
      "Epoch 94/100\n",
      "46/46 [==============================] - 0s 5ms/step - loss: 4.6096e-05 - mse: 4.6096e-05\n",
      "Epoch 95/100\n",
      "46/46 [==============================] - 0s 5ms/step - loss: 5.1881e-05 - mse: 5.1881e-05\n",
      "Epoch 96/100\n",
      "46/46 [==============================] - 0s 4ms/step - loss: 2.7838e-05 - mse: 2.7838e-05\n",
      "Epoch 97/100\n",
      "46/46 [==============================] - 0s 5ms/step - loss: 3.3189e-05 - mse: 3.3189e-05\n",
      "Epoch 98/100\n",
      "46/46 [==============================] - 0s 5ms/step - loss: 2.8091e-05 - mse: 2.8091e-05\n",
      "Epoch 99/100\n",
      "46/46 [==============================] - 0s 4ms/step - loss: 3.2460e-05 - mse: 3.2460e-05\n",
      "Epoch 100/100\n",
      "46/46 [==============================] - 0s 4ms/step - loss: 2.2989e-05 - mse: 2.2989e-05\n",
      "Model: \"sequential\"\n",
      "_________________________________________________________________\n",
      "Layer (type)                 Output Shape              Param #   \n",
      "=================================================================\n",
      "dense (Dense)                (None, 192)               52224     \n",
      "_________________________________________________________________\n",
      "dense_1 (Dense)              (None, 224)               43232     \n",
      "_________________________________________________________________\n",
      "dense_2 (Dense)              (None, 288)               64800     \n",
      "_________________________________________________________________\n",
      "dense_3 (Dense)              (None, 192)               55488     \n",
      "_________________________________________________________________\n",
      "dense_4 (Dense)              (None, 192)               37056     \n",
      "_________________________________________________________________\n",
      "dense_5 (Dense)              (None, 160)               30880     \n",
      "_________________________________________________________________\n",
      "dense_6 (Dense)              (None, 128)               20608     \n",
      "_________________________________________________________________\n",
      "dense_7 (Dense)              (None, 416)               53664     \n",
      "_________________________________________________________________\n",
      "dense_8 (Dense)              (None, 64)                26688     \n",
      "_________________________________________________________________\n",
      "dense_9 (Dense)              (None, 1)                 65        \n",
      "=================================================================\n",
      "Total params: 384,705\n",
      "Trainable params: 384,705\n",
      "Non-trainable params: 0\n",
      "_________________________________________________________________\n",
      "None\n"
     ]
    },
    {
     "data": {
      "image/png": "[encoded data removed]",
      "text/plain": [
       "<Figure size 576x360 with 1 Axes>"
      ]
     },
     "metadata": {
      "needs_background": "light"
     },
     "output_type": "display_data"
    }
   ],
   "source": [
    "mod_history = model.fit(X_train, y_train, epochs=100, shuffle=True, verbose=1)\n",
    "print(model.summary())\n",
    "\n",
    "pd.DataFrame(mod_history.history).plot(figsize=(8,5))\n",
    "plt.show()"
   ]
  },
  {
   "cell_type": "code",
   "execution_count": 7,
   "id": "0729d999",
   "metadata": {
    "execution": {
     "iopub.execute_input": "2021-10-11T19:30:12.280581Z",
     "iopub.status.busy": "2021-10-11T19:30:12.279867Z",
     "iopub.status.idle": "2021-10-11T19:30:12.437940Z",
     "shell.execute_reply": "2021-10-11T19:30:12.438523Z",
     "shell.execute_reply.started": "2021-10-11T19:12:04.428177Z"
    },
    "papermill": {
     "duration": 0.343195,
     "end_time": "2021-10-11T19:30:12.438708",
     "exception": false,
     "start_time": "2021-10-11T19:30:12.095513",
     "status": "completed"
    },
    "tags": []
   },
   "outputs": [],
   "source": [
    "prediction = model.predict(X_val)\n",
    "y_0 = prediction\n",
    "y_0 -= added\n",
    "y_0 /= multiplied_by"
   ]
  },
  {
   "cell_type": "code",
   "execution_count": 8,
   "id": "67ac9e54",
   "metadata": {
    "execution": {
     "iopub.execute_input": "2021-10-11T19:30:12.796458Z",
     "iopub.status.busy": "2021-10-11T19:30:12.795826Z",
     "iopub.status.idle": "2021-10-11T19:30:13.049347Z",
     "shell.execute_reply": "2021-10-11T19:30:13.049873Z",
     "shell.execute_reply.started": "2021-10-11T19:12:04.546906Z"
    },
    "papermill": {
     "duration": 0.433668,
     "end_time": "2021-10-11T19:30:13.050097",
     "exception": false,
     "start_time": "2021-10-11T19:30:12.616429",
     "status": "completed"
    },
    "tags": []
   },
   "outputs": [
    {
     "data": {
      "text/plain": [
       "[<matplotlib.lines.Line2D at 0x7f47840dc450>]"
      ]
     },
     "execution_count": 8,
     "metadata": {},
     "output_type": "execute_result"
    },
    {
     "data": {
      "image/png": "[encoded data removed]",
      "text/plain": [
       "<Figure size 432x288 with 1 Axes>"
      ]
     },
     "metadata": {
      "needs_background": "light"
     },
     "output_type": "display_data"
    }
   ],
   "source": [
    "plt.scatter((y_val['SalePrice'] - added) / multiplied_by, y_0)\n",
    "plt.xlabel('Sale Price')\n",
    "plt.ylabel('Predicted Price')\n",
    "plt.plot((y_val['SalePrice'] - added) / multiplied_by, (y_val['SalePrice'] - added) / multiplied_by)"
   ]
  },
  {
   "cell_type": "code",
   "execution_count": 9,
   "id": "33aa1fa2",
   "metadata": {
    "execution": {
     "iopub.execute_input": "2021-10-11T19:30:13.413340Z",
     "iopub.status.busy": "2021-10-11T19:30:13.412654Z",
     "iopub.status.idle": "2021-10-11T19:30:13.574675Z",
     "shell.execute_reply": "2021-10-11T19:30:13.573995Z",
     "shell.execute_reply.started": "2021-10-11T19:12:04.807709Z"
    },
    "papermill": {
     "duration": 0.345577,
     "end_time": "2021-10-11T19:30:13.574832",
     "exception": false,
     "start_time": "2021-10-11T19:30:13.229255",
     "status": "completed"
    },
    "tags": []
   },
   "outputs": [],
   "source": [
    "#Create Submission\n",
    "prediction = model.predict(scaled_test_X)\n",
    "y_0 = prediction\n",
    "y_0 -= added\n",
    "y_0 /= multiplied_by\n",
    "test_df = pd.read_csv('/kaggle/input/house-prices-advanced-regression-techniques/test.csv')\n",
    "\n",
    "my_submission = pd.DataFrame({'Id': test_df.Id, 'SalePrice': y_0[:,0]})\n",
    "my_submission.to_csv('submission.csv', index=False)"
   ]
  }
 ],
 "metadata": {
  "kernelspec": {
   "display_name": "Python 3",
   "language": "python",
   "name": "python3"
  },
  "language_info": {
   "codemirror_mode": {
    "name": "ipython",
    "version": 3
   },
   "file_extension": ".py",
   "mimetype": "text/x-python",
   "name": "python",
   "nbconvert_exporter": "python",
   "pygments_lexer": "ipython3",
   "version": "3.7.10"
  },
  "papermill": {
   "default_parameters": {},
   "duration": 500.86328,
   "end_time": "2021-10-11T19:30:17.346782",
   "environment_variables": {},
   "exception": null,
   "input_path": "__notebook__.ipynb",
   "output_path": "__notebook__.ipynb",
   "parameters": {},
   "start_time": "2021-10-11T19:21:56.483502",
   "version": "2.3.3"
  }
 },
 "nbformat": 4,
 "nbformat_minor": 5
}
